{
  "nbformat": 4,
  "nbformat_minor": 0,
  "metadata": {
    "colab": {
      "name": "text_classifier.ipynb",
      "provenance": [],
      "authorship_tag": "ABX9TyNla/2oMBAeiYO/OEGWlEcS",
      "include_colab_link": true
    },
    "kernelspec": {
      "name": "python3",
      "display_name": "Python 3"
    }
  },
  "cells": [
    {
      "cell_type": "markdown",
      "metadata": {
        "id": "view-in-github",
        "colab_type": "text"
      },
      "source": [
        "<a href=\"https://colab.research.google.com/github/minhng/notebooks/blob/master/text_classifier.ipynb\" target=\"_parent\"><img src=\"https://colab.research.google.com/assets/colab-badge.svg\" alt=\"Open In Colab\"/></a>"
      ]
    },
    {
      "cell_type": "code",
      "metadata": {
        "id": "eNDv2RU8wNQQ",
        "colab_type": "code",
        "colab": {}
      },
      "source": [
        "import numpy as np \n",
        "import pandas as pd\n",
        "import xgboost\n",
        "from sklearn import model_selection, preprocessing, metrics\n",
        "from sklearn.feature_extraction.text import TfidfVectorizer"
      ],
      "execution_count": 0,
      "outputs": []
    },
    {
      "cell_type": "code",
      "metadata": {
        "id": "-CkKVfXUxNPG",
        "colab_type": "code",
        "outputId": "2715267f-fdce-440e-b8e6-3c55752ade5b",
        "colab": {
          "base_uri": "https://localhost:8080/",
          "height": 204
        }
      },
      "source": [
        "data = pd.read_csv('https://s3-us-west-1.amazonaws.com/ra-training/ra_data_classifier.csv', encoding = \"ISO-8859-1\")\n",
        "data.head(5)"
      ],
      "execution_count": 0,
      "outputs": [
        {
          "output_type": "execute_result",
          "data": {
            "text/html": [
              "<div>\n",
              "<style scoped>\n",
              "    .dataframe tbody tr th:only-of-type {\n",
              "        vertical-align: middle;\n",
              "    }\n",
              "\n",
              "    .dataframe tbody tr th {\n",
              "        vertical-align: top;\n",
              "    }\n",
              "\n",
              "    .dataframe thead th {\n",
              "        text-align: right;\n",
              "    }\n",
              "</style>\n",
              "<table border=\"1\" class=\"dataframe\">\n",
              "  <thead>\n",
              "    <tr style=\"text-align: right;\">\n",
              "      <th></th>\n",
              "      <th>hid</th>\n",
              "      <th>chunk</th>\n",
              "      <th>has_space</th>\n",
              "    </tr>\n",
              "  </thead>\n",
              "  <tbody>\n",
              "    <tr>\n",
              "      <th>0</th>\n",
              "      <td>33BFF6QPI1YEFYISIWWDVQKGH8RW3Z</td>\n",
              "      <td>Landmark Center, 8th Fl</td>\n",
              "      <td>0</td>\n",
              "    </tr>\n",
              "    <tr>\n",
              "      <th>1</th>\n",
              "      <td>3HUR21WDDUCUK1K6HMLPN3U0ZBSYX0</td>\n",
              "      <td>Contact: The C3 team at MakemeC3@cic.us -- Add...</td>\n",
              "      <td>0</td>\n",
              "    </tr>\n",
              "    <tr>\n",
              "      <th>2</th>\n",
              "      <td>3566S7OX5D63FG3CNKAIFH62QX517B</td>\n",
              "      <td>A powerful tool for developers, the MySQL Data...</td>\n",
              "      <td>0</td>\n",
              "    </tr>\n",
              "    <tr>\n",
              "      <th>3</th>\n",
              "      <td>3GV1I4SEO9CX1NTBXKN9TIFKTSQ6LN</td>\n",
              "      <td>Easy access to T, Hubway, and parking</td>\n",
              "      <td>0</td>\n",
              "    </tr>\n",
              "    <tr>\n",
              "      <th>4</th>\n",
              "      <td>37SDSEDIN9P7FU8VXP2OTH2X1HB18Y</td>\n",
              "      <td>Check out our Private Offices</td>\n",
              "      <td>1</td>\n",
              "    </tr>\n",
              "  </tbody>\n",
              "</table>\n",
              "</div>"
            ],
            "text/plain": [
              "                              hid  ... has_space\n",
              "0  33BFF6QPI1YEFYISIWWDVQKGH8RW3Z  ...         0\n",
              "1  3HUR21WDDUCUK1K6HMLPN3U0ZBSYX0  ...         0\n",
              "2  3566S7OX5D63FG3CNKAIFH62QX517B  ...         0\n",
              "3  3GV1I4SEO9CX1NTBXKN9TIFKTSQ6LN  ...         0\n",
              "4  37SDSEDIN9P7FU8VXP2OTH2X1HB18Y  ...         1\n",
              "\n",
              "[5 rows x 3 columns]"
            ]
          },
          "metadata": {
            "tags": []
          },
          "execution_count": 6
        }
      ]
    },
    {
      "cell_type": "markdown",
      "metadata": {
        "id": "YcXk8Z0VyrFU",
        "colab_type": "text"
      },
      "source": [
        "Data preprocessing - drop 'hid' column + remove duplicates in 'chunk' column (if there is)."
      ]
    },
    {
      "cell_type": "code",
      "metadata": {
        "id": "EkMf-xDIyZeD",
        "colab_type": "code",
        "outputId": "fb3dc4ab-b4ab-4fd7-b4e5-8d43fb3d8d0a",
        "colab": {
          "base_uri": "https://localhost:8080/",
          "height": 34
        }
      },
      "source": [
        "data_single = data.drop(['hid',], axis = 1)\n",
        "data_single = data_sel.drop_duplicates('chunk')\n",
        "data_single.shape"
      ],
      "execution_count": 0,
      "outputs": [
        {
          "output_type": "execute_result",
          "data": {
            "text/plain": [
              "(100, 2)"
            ]
          },
          "metadata": {
            "tags": []
          },
          "execution_count": 30
        }
      ]
    },
    {
      "cell_type": "markdown",
      "metadata": {
        "id": "nbzMFjUd0XA4",
        "colab_type": "text"
      },
      "source": [
        "Transform all text to lower case and remove any accents from letters."
      ]
    },
    {
      "cell_type": "code",
      "metadata": {
        "id": "9_dI4pInzaZB",
        "colab_type": "code",
        "outputId": "6d325e27-572d-4aec-c1b4-e59048588cae",
        "colab": {
          "base_uri": "https://localhost:8080/",
          "height": 204
        }
      },
      "source": [
        "data_single['chunk'] = data_single['chunk'].str.lower()\n",
        "def unidecode_text(text):\n",
        "    try:\n",
        "        text = unidecode.unidecode(text)\n",
        "    except:\n",
        "        pass\n",
        "    return text\n",
        "data_single['chunk'] = data_single.apply(lambda row: unidecode_text(row['chunk']), axis=1)\n",
        "data_single.head(5)"
      ],
      "execution_count": 0,
      "outputs": [
        {
          "output_type": "execute_result",
          "data": {
            "text/html": [
              "<div>\n",
              "<style scoped>\n",
              "    .dataframe tbody tr th:only-of-type {\n",
              "        vertical-align: middle;\n",
              "    }\n",
              "\n",
              "    .dataframe tbody tr th {\n",
              "        vertical-align: top;\n",
              "    }\n",
              "\n",
              "    .dataframe thead th {\n",
              "        text-align: right;\n",
              "    }\n",
              "</style>\n",
              "<table border=\"1\" class=\"dataframe\">\n",
              "  <thead>\n",
              "    <tr style=\"text-align: right;\">\n",
              "      <th></th>\n",
              "      <th>chunk</th>\n",
              "      <th>has_space</th>\n",
              "    </tr>\n",
              "  </thead>\n",
              "  <tbody>\n",
              "    <tr>\n",
              "      <th>0</th>\n",
              "      <td>landmark center, 8th fl</td>\n",
              "      <td>0</td>\n",
              "    </tr>\n",
              "    <tr>\n",
              "      <th>1</th>\n",
              "      <td>contact: the c3 team at makemec3@cic.us -- add...</td>\n",
              "      <td>0</td>\n",
              "    </tr>\n",
              "    <tr>\n",
              "      <th>2</th>\n",
              "      <td>a powerful tool for developers, the mysql data...</td>\n",
              "      <td>0</td>\n",
              "    </tr>\n",
              "    <tr>\n",
              "      <th>3</th>\n",
              "      <td>easy access to t, hubway, and parking</td>\n",
              "      <td>0</td>\n",
              "    </tr>\n",
              "    <tr>\n",
              "      <th>4</th>\n",
              "      <td>check out our private offices</td>\n",
              "      <td>1</td>\n",
              "    </tr>\n",
              "  </tbody>\n",
              "</table>\n",
              "</div>"
            ],
            "text/plain": [
              "                                               chunk  has_space\n",
              "0                            landmark center, 8th fl          0\n",
              "1  contact: the c3 team at makemec3@cic.us -- add...          0\n",
              "2  a powerful tool for developers, the mysql data...          0\n",
              "3              easy access to t, hubway, and parking          0\n",
              "4                      check out our private offices          1"
            ]
          },
          "metadata": {
            "tags": []
          },
          "execution_count": 9
        }
      ]
    },
    {
      "cell_type": "markdown",
      "metadata": {
        "id": "4Ff5o7Sz1nRU",
        "colab_type": "text"
      },
      "source": [
        "We will split the dataset into training and testing sets so that we can train and test classifier. <br>\n",
        "Training dataset = 75% and testing dataset = 25% <br>\n",
        "We will also encode our target column so that it can be used in machine learning models."
      ]
    },
    {
      "cell_type": "code",
      "metadata": {
        "id": "3N_IFAO61k72",
        "colab_type": "code",
        "outputId": "e7006bb2-8d13-45b6-e26d-ca48433d13ad",
        "colab": {
          "base_uri": "https://localhost:8080/",
          "height": 34
        }
      },
      "source": [
        "# split the dataset into training and testing datasets \n",
        "train_x, test_x, train_y, test_y = model_selection.train_test_split(data_single['chunk'], data_single['has_space'])\n",
        "\n",
        "# label encode the target variable \n",
        "encoder = preprocessing.LabelEncoder()\n",
        "train_y = encoder.fit_transform(train_y)\n",
        "test_y = encoder.fit_transform(test_y)\n",
        "train_y.shape"
      ],
      "execution_count": 0,
      "outputs": [
        {
          "output_type": "execute_result",
          "data": {
            "text/plain": [
              "(75,)"
            ]
          },
          "metadata": {
            "tags": []
          },
          "execution_count": 33
        }
      ]
    },
    {
      "cell_type": "markdown",
      "metadata": {
        "id": "wBIKMD4ZL19f",
        "colab_type": "text"
      },
      "source": [
        "Word Level TF-IDF : Matrix representing tf-idf scores of every term in different documents. <br>\n",
        "Vectorization is a method that counts the occurance of a word in one sample then compares it with the occurance of the same word over all the samples. It repeats this process for each word and outputs a vector of numbers, where each number represents a word."
      ]
    },
    {
      "cell_type": "code",
      "metadata": {
        "id": "dT7s61SRCA4f",
        "colab_type": "code",
        "colab": {}
      },
      "source": [
        "# tf-idf (1-gram)\n",
        "tfidf_vect = TfidfVectorizer(analyzer='word', token_pattern=r'\\w{1,}', max_features=5000)\n",
        "tfidf_vect.fit(data_single['chunk'])\n",
        "train_x_tfidf =  tfidf_vect.transform(train_x)\n",
        "test_x_tfidf =  tfidf_vect.transform(test_x)"
      ],
      "execution_count": 0,
      "outputs": []
    },
    {
      "cell_type": "markdown",
      "metadata": {
        "id": "HmHbiBiLTbVw",
        "colab_type": "text"
      },
      "source": [
        "Classification Model: XGBoost - a gradient boosted decision tree classifier. <br>\n",
        "Run our trained labels against testing labels yields 72% in accuracy. "
      ]
    },
    {
      "cell_type": "code",
      "metadata": {
        "id": "UV0DJMOFMsXQ",
        "colab_type": "code",
        "outputId": "8fb59f3e-d976-4ef7-8c33-215ad20b1c56",
        "colab": {
          "base_uri": "https://localhost:8080/",
          "height": 34
        }
      },
      "source": [
        "def train_model(classifier, feature_vector_train, label, feature_vector_valid):\n",
        "    # fit the training dataset on the classifier\n",
        "    classifier.fit(feature_vector_train, label)\n",
        "    # predict the labels on validation dataset\n",
        "    predictions = classifier.predict(feature_vector_valid)    \n",
        "    return metrics.accuracy_score(predictions, test_y)\n",
        "\n",
        "# XGBoost on Word Level TF IDF Vectors\n",
        "accuracy = train_model(xgboost.XGBClassifier(), train_x_tfidf.tocsc(), train_y, test_x_tfidf.tocsc())\n",
        "print(\"Result accuracy: \", accuracy)"
      ],
      "execution_count": 0,
      "outputs": [
        {
          "output_type": "stream",
          "text": [
            "Result accuracy:  0.72\n"
          ],
          "name": "stdout"
        }
      ]
    }
  ]
}